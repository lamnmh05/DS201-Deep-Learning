{
 "cells": [
  {
   "cell_type": "code",
   "execution_count": 8,
   "metadata": {
    "execution": {
     "iopub.execute_input": "2025-10-31T11:29:38.745764Z",
     "iopub.status.busy": "2025-10-31T11:29:38.744991Z",
     "iopub.status.idle": "2025-10-31T11:30:43.782473Z",
     "shell.execute_reply": "2025-10-31T11:30:43.781712Z",
     "shell.execute_reply.started": "2025-10-31T11:29:38.745732Z"
    },
    "trusted": true
   },
   "outputs": [
    {
     "name": "stdout",
     "output_type": "stream",
     "text": [
      "2025-10-31 11:29:44.022106: E external/local_xla/xla/stream_executor/cuda/cuda_fft.cc:477] Unable to register cuFFT factory: Attempting to register factory for plugin cuFFT when one has already been registered\n",
      "WARNING: All log messages before absl::InitializeLog() is called are written to STDERR\n",
      "E0000 00:00:1761910184.045411     223 cuda_dnn.cc:8310] Unable to register cuDNN factory: Attempting to register factory for plugin cuDNN when one has already been registered\n",
      "E0000 00:00:1761910184.052223     223 cuda_blas.cc:1418] Unable to register cuBLAS factory: Attempting to register factory for plugin cuBLAS when one has already been registered\n",
      "Epoch 1/10: 100%|██████████| 1875/1875 [00:05<00:00, 372.26batch/s, loss=1.1522]\n",
      "Epoch 1/10 finished | Average loss: 1.1522\n",
      "Epoch 2/10: 100%|██████████| 1875/1875 [00:04<00:00, 387.11batch/s, loss=0.1452]\n",
      "Epoch 2/10 finished | Average loss: 0.1452\n",
      "Epoch 3/10: 100%|██████████| 1875/1875 [00:04<00:00, 394.71batch/s, loss=0.1098]\n",
      "Epoch 3/10 finished | Average loss: 0.1098\n",
      "Epoch 4/10: 100%|██████████| 1875/1875 [00:04<00:00, 397.32batch/s, loss=0.0950]\n",
      "Epoch 4/10 finished | Average loss: 0.0950\n",
      "Epoch 5/10: 100%|██████████| 1875/1875 [00:04<00:00, 405.90batch/s, loss=0.0835]\n",
      "Epoch 5/10 finished | Average loss: 0.0835\n",
      "Epoch 6/10: 100%|██████████| 1875/1875 [00:04<00:00, 398.95batch/s, loss=0.0711]\n",
      "Epoch 6/10 finished | Average loss: 0.0711\n",
      "Epoch 7/10: 100%|██████████| 1875/1875 [00:04<00:00, 399.62batch/s, loss=0.0721]\n",
      "Epoch 7/10 finished | Average loss: 0.0721\n",
      "Epoch 8/10: 100%|██████████| 1875/1875 [00:04<00:00, 398.30batch/s, loss=0.0676]\n",
      "Epoch 8/10 finished | Average loss: 0.0676\n",
      "Epoch 9/10: 100%|██████████| 1875/1875 [00:04<00:00, 397.67batch/s, loss=0.0624]\n",
      "Epoch 9/10 finished | Average loss: 0.0624\n",
      "Epoch 10/10: 100%|█████████| 1875/1875 [00:04<00:00, 393.86batch/s, loss=0.0607]\n",
      "Epoch 10/10 finished | Average loss: 0.0607\n",
      "Evaluating: 100%|███████████████████████| 10000/10000 [00:06<00:00, 1581.34it/s]\n",
      "Metrics for LeNet model: {'accuracy': 0.9769, 'f1': 0.9767168732169695, 'precision': 0.9767975707430281, 'recall': 0.9767945254942466}\n"
     ]
    }
   ],
   "source": [
    "!python -m lab2.main --task 1"
   ]
  },
  {
   "cell_type": "code",
   "execution_count": 9,
   "metadata": {
    "execution": {
     "iopub.execute_input": "2025-10-31T11:30:52.407039Z",
     "iopub.status.busy": "2025-10-31T11:30:52.406235Z",
     "iopub.status.idle": "2025-10-31T12:01:46.179111Z",
     "shell.execute_reply": "2025-10-31T12:01:46.178350Z",
     "shell.execute_reply.started": "2025-10-31T11:30:52.407006Z"
    },
    "trusted": true
   },
   "outputs": [
    {
     "name": "stdout",
     "output_type": "stream",
     "text": [
      "2025-10-31 11:30:57.855008: E external/local_xla/xla/stream_executor/cuda/cuda_fft.cc:477] Unable to register cuFFT factory: Attempting to register factory for plugin cuFFT when one has already been registered\n",
      "WARNING: All log messages before absl::InitializeLog() is called are written to STDERR\n",
      "E0000 00:00:1761910257.877104     240 cuda_dnn.cc:8310] Unable to register cuDNN factory: Attempting to register factory for plugin cuDNN when one has already been registered\n",
      "E0000 00:00:1761910257.883967     240 cuda_blas.cc:1418] Unable to register cuBLAS factory: Attempting to register factory for plugin cuBLAS when one has already been registered\n",
      "Epoch 1/10:  37%|████▊        | 116/314 [01:04<01:44,  1.89batch/s, loss=3.4218]/usr/local/lib/python3.11/dist-packages/PIL/Image.py:1047: UserWarning: Palette images with Transparency expressed in bytes should be converted to RGBA images\n",
      "  warnings.warn(\n",
      "Epoch 1/10: 100%|█████████████| 314/314 [02:52<00:00,  1.82batch/s, loss=3.1191]\n",
      "Epoch 1/10 finished | Average loss: 3.1191\n",
      "Epoch 2/10: 100%|█████████████| 314/314 [02:46<00:00,  1.88batch/s, loss=2.7406]\n",
      "Epoch 2/10 finished | Average loss: 2.7406\n",
      "Epoch 3/10: 100%|█████████████| 314/314 [02:47<00:00,  1.88batch/s, loss=2.6181]\n",
      "Epoch 3/10 finished | Average loss: 2.6181\n",
      "Epoch 4/10: 100%|█████████████| 314/314 [02:46<00:00,  1.88batch/s, loss=2.4927]\n",
      "Epoch 4/10 finished | Average loss: 2.4927\n",
      "Epoch 5/10: 100%|█████████████| 314/314 [02:49<00:00,  1.85batch/s, loss=2.3792]\n",
      "Epoch 5/10 finished | Average loss: 2.3792\n",
      "Epoch 6/10: 100%|█████████████| 314/314 [02:48<00:00,  1.87batch/s, loss=2.2483]\n",
      "Epoch 6/10 finished | Average loss: 2.2483\n",
      "Epoch 7/10: 100%|█████████████| 314/314 [02:47<00:00,  1.88batch/s, loss=2.1528]\n",
      "Epoch 7/10 finished | Average loss: 2.1528\n",
      "Epoch 8/10: 100%|█████████████| 314/314 [02:46<00:00,  1.88batch/s, loss=2.0592]\n",
      "Epoch 8/10 finished | Average loss: 2.0592\n",
      "Epoch 9/10: 100%|█████████████| 314/314 [02:47<00:00,  1.87batch/s, loss=1.9553]\n",
      "Epoch 9/10 finished | Average loss: 1.9553\n",
      "Epoch 10/10: 100%|████████████| 314/314 [02:48<00:00,  1.86batch/s, loss=1.8928]\n",
      "Epoch 10/10 finished | Average loss: 1.8928\n",
      "Evaluating: 100%|███████████████████████████| 6682/6682 [02:40<00:00, 41.73it/s]\n",
      "Metrics for GoogLeNet model: {'accuracy': 0.35468422627955704, 'f1': 0.2865158255385535, 'precision': 0.32760751850754966, 'recall': 0.325032354480652}\n"
     ]
    }
   ],
   "source": [
    "!python -m lab2.main --task 2"
   ]
  },
  {
   "cell_type": "code",
   "execution_count": 5,
   "metadata": {
    "execution": {
     "iopub.execute_input": "2025-10-31T10:20:45.984024Z",
     "iopub.status.busy": "2025-10-31T10:20:45.983757Z",
     "iopub.status.idle": "2025-10-31T10:52:39.257007Z",
     "shell.execute_reply": "2025-10-31T10:52:39.256219Z",
     "shell.execute_reply.started": "2025-10-31T10:20:45.984005Z"
    },
    "trusted": true
   },
   "outputs": [
    {
     "name": "stdout",
     "output_type": "stream",
     "text": [
      "2025-10-31 10:20:51.722285: E external/local_xla/xla/stream_executor/cuda/cuda_fft.cc:477] Unable to register cuFFT factory: Attempting to register factory for plugin cuFFT when one has already been registered\n",
      "WARNING: All log messages before absl::InitializeLog() is called are written to STDERR\n",
      "E0000 00:00:1761906051.745312     152 cuda_dnn.cc:8310] Unable to register cuDNN factory: Attempting to register factory for plugin cuDNN when one has already been registered\n",
      "E0000 00:00:1761906051.752209     152 cuda_blas.cc:1418] Unable to register cuBLAS factory: Attempting to register factory for plugin cuBLAS when one has already been registered\n",
      "Epoch 1/10:   0%|               | 1/314 [00:01<09:57,  1.91s/batch, loss=3.8896]/usr/local/lib/python3.11/dist-packages/PIL/Image.py:1047: UserWarning: Palette images with Transparency expressed in bytes should be converted to RGBA images\n",
      "  warnings.warn(\n",
      "Epoch 1/10: 100%|█████████████| 314/314 [04:00<00:00,  1.31batch/s, loss=3.0580]\n",
      "Epoch 1/10 finished | Average loss: 3.0580\n",
      "Epoch 2/10: 100%|█████████████| 314/314 [02:45<00:00,  1.90batch/s, loss=2.4760]\n",
      "Epoch 2/10 finished | Average loss: 2.4760\n",
      "Epoch 3/10: 100%|█████████████| 314/314 [02:41<00:00,  1.94batch/s, loss=2.1791]\n",
      "Epoch 3/10 finished | Average loss: 2.1791\n",
      "Epoch 4/10: 100%|█████████████| 314/314 [02:42<00:00,  1.94batch/s, loss=1.9713]\n",
      "Epoch 4/10 finished | Average loss: 1.9713\n",
      "Epoch 5/10: 100%|█████████████| 314/314 [02:41<00:00,  1.94batch/s, loss=1.8036]\n",
      "Epoch 5/10 finished | Average loss: 1.8036\n",
      "Epoch 6/10: 100%|█████████████| 314/314 [02:45<00:00,  1.90batch/s, loss=1.6572]\n",
      "Epoch 6/10 finished | Average loss: 1.6572\n",
      "Epoch 7/10: 100%|█████████████| 314/314 [02:43<00:00,  1.92batch/s, loss=1.5182]\n",
      "Epoch 7/10 finished | Average loss: 1.5182\n",
      "Epoch 8/10: 100%|█████████████| 314/314 [02:41<00:00,  1.95batch/s, loss=1.3752]\n",
      "Epoch 8/10 finished | Average loss: 1.3752\n",
      "Epoch 9/10: 100%|█████████████| 314/314 [02:41<00:00,  1.94batch/s, loss=1.2469]\n",
      "Epoch 9/10 finished | Average loss: 1.2469\n",
      "Epoch 10/10: 100%|████████████| 314/314 [02:45<00:00,  1.90batch/s, loss=1.0921]\n",
      "Epoch 10/10 finished | Average loss: 1.0921\n",
      "Evaluating: 100%|███████████████████████████| 6682/6682 [03:12<00:00, 34.76it/s]\n",
      "Metrics for ResNet18 model: {'accuracy': 0.43923974857827, 'f1': 0.4137781297194121, 'precision': 0.4804119410937804, 'recall': 0.43298831351427997}\n"
     ]
    }
   ],
   "source": [
    "!python -m lab2.main --task 3"
   ]
  },
  {
   "cell_type": "code",
   "execution_count": 6,
   "metadata": {
    "execution": {
     "iopub.execute_input": "2025-10-31T10:52:52.306946Z",
     "iopub.status.busy": "2025-10-31T10:52:52.306120Z",
     "iopub.status.idle": "2025-10-31T11:28:12.506848Z",
     "shell.execute_reply": "2025-10-31T11:28:12.506102Z",
     "shell.execute_reply.started": "2025-10-31T10:52:52.306909Z"
    },
    "trusted": true
   },
   "outputs": [
    {
     "name": "stdout",
     "output_type": "stream",
     "text": [
      "2025-10-31 10:52:57.776595: E external/local_xla/xla/stream_executor/cuda/cuda_fft.cc:477] Unable to register cuFFT factory: Attempting to register factory for plugin cuFFT when one has already been registered\n",
      "WARNING: All log messages before absl::InitializeLog() is called are written to STDERR\n",
      "E0000 00:00:1761907977.799900     173 cuda_dnn.cc:8310] Unable to register cuDNN factory: Attempting to register factory for plugin cuDNN when one has already been registered\n",
      "E0000 00:00:1761907977.807588     173 cuda_blas.cc:1418] Unable to register cuBLAS factory: Attempting to register factory for plugin cuBLAS when one has already been registered\n",
      "config.json: 69.6kB [00:00, 75.8MB/s]\n",
      "model.safetensors: 100%|█████████████████████| 102M/102M [00:01<00:00, 93.2MB/s]\n",
      "Epoch 1/10:   2%|▎              | 7/314 [00:04<03:12,  1.59batch/s, loss=2.9640]/usr/local/lib/python3.11/dist-packages/PIL/Image.py:1047: UserWarning: Palette images with Transparency expressed in bytes should be converted to RGBA images\n",
      "  warnings.warn(\n",
      "Epoch 1/10: 100%|█████████████| 314/314 [03:19<00:00,  1.58batch/s, loss=2.3827]\n",
      "Epoch 1/10 finished | Average loss: 2.3827\n",
      "Epoch 2/10: 100%|█████████████| 314/314 [03:17<00:00,  1.59batch/s, loss=1.7946]\n",
      "Epoch 2/10 finished | Average loss: 1.7946\n",
      "Epoch 3/10: 100%|█████████████| 314/314 [03:16<00:00,  1.60batch/s, loss=1.4285]\n",
      "Epoch 3/10 finished | Average loss: 1.4285\n",
      "Epoch 4/10: 100%|█████████████| 314/314 [03:15<00:00,  1.61batch/s, loss=1.1740]\n",
      "Epoch 4/10 finished | Average loss: 1.1740\n",
      "Epoch 5/10: 100%|█████████████| 314/314 [03:15<00:00,  1.61batch/s, loss=0.9534]\n",
      "Epoch 5/10 finished | Average loss: 0.9534\n",
      "Epoch 6/10: 100%|█████████████| 314/314 [03:14<00:00,  1.61batch/s, loss=0.7337]\n",
      "Epoch 6/10 finished | Average loss: 0.7337\n",
      "Epoch 7/10: 100%|█████████████| 314/314 [03:13<00:00,  1.62batch/s, loss=0.5522]\n",
      "Epoch 7/10 finished | Average loss: 0.5522\n",
      "Epoch 8/10: 100%|█████████████| 314/314 [03:14<00:00,  1.62batch/s, loss=0.3968]\n",
      "Epoch 8/10 finished | Average loss: 0.3968\n",
      "Epoch 9/10: 100%|█████████████| 314/314 [03:14<00:00,  1.61batch/s, loss=0.2904]\n",
      "Epoch 9/10 finished | Average loss: 0.2904\n",
      "Epoch 10/10: 100%|████████████| 314/314 [03:15<00:00,  1.61batch/s, loss=0.1751]\n",
      "Epoch 10/10 finished | Average loss: 0.1751\n",
      "Evaluating: 100%|███████████████████████████| 6682/6682 [02:30<00:00, 44.48it/s]\n",
      "Metrics for Pre-trained ResNet model: {'accuracy': 0.5724334031727027, 'f1': 0.5602815754934033, 'precision': 0.6268530833044865, 'recall': 0.567219118034823}\n"
     ]
    }
   ],
   "source": [
    "!python -m lab2.main --task 4"
   ]
  }
 ],
 "metadata": {
  "kaggle": {
   "accelerator": "gpu",
   "dataSources": [
    {
     "datasetId": 8539588,
     "sourceId": 13453298,
     "sourceType": "datasetVersion"
    }
   ],
   "dockerImageVersionId": 31154,
   "isGpuEnabled": true,
   "isInternetEnabled": true,
   "language": "python",
   "sourceType": "notebook"
  },
  "kernelspec": {
   "display_name": "Python 3",
   "language": "python",
   "name": "python3"
  },
  "language_info": {
   "codemirror_mode": {
    "name": "ipython",
    "version": 3
   },
   "file_extension": ".py",
   "mimetype": "text/x-python",
   "name": "python",
   "nbconvert_exporter": "python",
   "pygments_lexer": "ipython3",
   "version": "3.11.13"
  }
 },
 "nbformat": 4,
 "nbformat_minor": 4
}
